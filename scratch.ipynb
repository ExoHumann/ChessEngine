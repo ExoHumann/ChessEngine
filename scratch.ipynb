{
 "cells": [
  {
   "cell_type": "code",
   "execution_count": 1,
   "metadata": {
    "collapsed": true
   },
   "outputs": [
    {
     "name": "stdout",
     "output_type": "stream",
     "text": [
      "\n",
      "-----------------\n",
      "⭘ ⭘ ♜ ⭘ ⭘ ⭘ ♖ ⭘\n",
      "♚ ♟ ⭘ ⭘ ⭘ ⭘ ⭘ ♟\n",
      "♟ ⭘ ⭘ ♕ ♟ ⭘ ⭘ ⭘\n",
      "♙ ⭘ ⭘ ⭘ ♙ ⭘ ⭘ ♛\n",
      "⭘ ⭘ ♗ ⭘ ⭘ ♟ ⭘ ⭘\n",
      "⭘ ⭘ ♖ ⭘ ⭘ ♟ ⭘ ⭘\n",
      "⭘ ⭘ ⭘ ⭘ ⭘ ♙ ⭘ ♙\n",
      "⭘ ⭘ ⭘ ⭘ ⭘ ⭘ ⭘ ♔\n",
      "-----------------\n",
      "\n"
     ]
    }
   ],
   "source": [
    "import chess\n",
    "import chess.pgn\n",
    "from MyEngines.RandomMoveEngine import RandomMoveEngine\n",
    "from ChessUtils import svg_display,text_display, play_game\n",
    "from MyEngines.ConsolePlayer import ConsolePlayer\n",
    "from MyEngines.ScoreEngine import ScoreEngine,minimax_score, improved_score\n",
    "\n",
    "pgn = open(\"PGN/Kasparov.pgn\")\n",
    "game = chess.pgn.read_game(pgn)\n",
    "board = game.board()\n",
    "\n",
    "for move in game.mainline_moves():\n",
    "    board.push(move)\n",
    "\n",
    "text_display(board)"
   ]
  },
  {
   "cell_type": "code",
   "execution_count": null,
   "outputs": [
    {
     "name": "stdout",
     "output_type": "stream",
     "text": [
      "Cache hits: 0. Prunes: 195. Positions: 5850.\n",
      "Found best move: g1f3 in 2.3609237670898438 seconds\n",
      "ScoreEngine is taking a trun\n",
      "Illegal move\n"
     ]
    }
   ],
   "source": [
    "board = chess.Board()\n",
    "play_game(board, ScoreEngine(minimax_score), ConsolePlayer(), svg_display, move)"
   ],
   "metadata": {
    "collapsed": false,
    "pycharm": {
     "is_executing": true
    }
   }
  },
  {
   "cell_type": "code",
   "execution_count": 8,
   "outputs": [
    {
     "name": "stdout",
     "output_type": "stream",
     "text": [
      "\n",
      "-----------------\n",
      "♜ ♞ ♝ ♛ ♚ ♝ ♞ ♜\n",
      "♟ ♟ ♟ ♟ ♟ ♟ ♟ ♟\n",
      "⭘ ⭘ ⭘ ⭘ ⭘ ⭘ ⭘ ⭘\n",
      "⭘ ⭘ ⭘ ⭘ ⭘ ⭘ ⭘ ⭘\n",
      "⭘ ⭘ ⭘ ⭘ ⭘ ⭘ ⭘ ⭘\n",
      "⭘ ⭘ ⭘ ⭘ ⭘ ⭘ ⭘ ⭘\n",
      "♙ ♙ ♙ ♙ ♙ ♙ ♙ ♙\n",
      "♖ ♘ ♗ ♕ ♔ ♗ ♘ ♖\n",
      "-----------------\n",
      "\n",
      "Cache hits: 0. Prunes: 10511. Positions: 120754.\n",
      "Found best move: g1f3 in 2.6017043590545654 seconds\n",
      "ScoreEngine is taking a trun\n",
      "\n",
      "-----------------\n",
      "♜ ♞ ♝ ♛ ♚ ♝ ♞ ♜\n",
      "♟ ♟ ♟ ♟ ♟ ♟ ♟ ♟\n",
      "⭘ ⭘ ⭘ ⭘ ⭘ ⭘ ⭘ ⭘\n",
      "⭘ ⭘ ⭘ ⭘ ⭘ ⭘ ⭘ ⭘\n",
      "⭘ ⭘ ⭘ ⭘ ⭘ ⭘ ⭘ ⭘\n",
      "⭘ ⭘ ⭘ ⭘ ⭘ ♘ ⭘ ⭘\n",
      "♙ ♙ ♙ ♙ ♙ ♙ ♙ ♙\n",
      "♖ ♘ ♗ ♕ ♔ ♗ ⭘ ♖\n",
      "-----------------\n",
      "\n",
      "RandomMoveEngine is taking a trun\n",
      "\n",
      "-----------------\n",
      "♜ ♞ ♝ ♛ ♚ ♝ ♞ ♜\n",
      "♟ ♟ ♟ ⭘ ♟ ♟ ♟ ♟\n",
      "⭘ ⭘ ⭘ ♟ ⭘ ⭘ ⭘ ⭘\n",
      "⭘ ⭘ ⭘ ⭘ ⭘ ⭘ ⭘ ⭘\n",
      "⭘ ⭘ ⭘ ⭘ ⭘ ⭘ ⭘ ⭘\n",
      "⭘ ⭘ ⭘ ⭘ ⭘ ♘ ⭘ ⭘\n",
      "♙ ♙ ♙ ♙ ♙ ♙ ♙ ♙\n",
      "♖ ♘ ♗ ♕ ♔ ♗ ⭘ ♖\n",
      "-----------------\n",
      "\n",
      "Cache hits: 0. Prunes: 10872. Positions: 128322.\n",
      "Found best move: f3g5 in 3.2371301651000977 seconds\n",
      "ScoreEngine is taking a trun\n",
      "\n",
      "-----------------\n",
      "♜ ♞ ♝ ♛ ♚ ♝ ♞ ♜\n",
      "♟ ♟ ♟ ⭘ ♟ ♟ ♟ ♟\n",
      "⭘ ⭘ ⭘ ♟ ⭘ ⭘ ⭘ ⭘\n",
      "⭘ ⭘ ⭘ ⭘ ⭘ ⭘ ♘ ⭘\n",
      "⭘ ⭘ ⭘ ⭘ ⭘ ⭘ ⭘ ⭘\n",
      "⭘ ⭘ ⭘ ⭘ ⭘ ⭘ ⭘ ⭘\n",
      "♙ ♙ ♙ ♙ ♙ ♙ ♙ ♙\n",
      "♖ ♘ ♗ ♕ ♔ ♗ ⭘ ♖\n",
      "-----------------\n",
      "\n",
      "RandomMoveEngine is taking a trun\n",
      "\n",
      "-----------------\n",
      "♜ ⭘ ♝ ♛ ♚ ♝ ♞ ♜\n",
      "♟ ♟ ♟ ⭘ ♟ ♟ ♟ ♟\n",
      "⭘ ⭘ ♞ ♟ ⭘ ⭘ ⭘ ⭘\n",
      "⭘ ⭘ ⭘ ⭘ ⭘ ⭘ ♘ ⭘\n",
      "⭘ ⭘ ⭘ ⭘ ⭘ ⭘ ⭘ ⭘\n",
      "⭘ ⭘ ⭘ ⭘ ⭘ ⭘ ⭘ ⭘\n",
      "♙ ♙ ♙ ♙ ♙ ♙ ♙ ♙\n",
      "♖ ♘ ♗ ♕ ♔ ♗ ⭘ ♖\n",
      "-----------------\n",
      "\n"
     ]
    },
    {
     "ename": "KeyboardInterrupt",
     "evalue": "",
     "output_type": "error",
     "traceback": [
      "\u001B[0;31m---------------------------------------------------------------------------\u001B[0m",
      "\u001B[0;31mKeyboardInterrupt\u001B[0m                         Traceback (most recent call last)",
      "\u001B[0;32m<ipython-input-8-744adbfb000c>\u001B[0m in \u001B[0;36m<module>\u001B[0;34m\u001B[0m\n\u001B[1;32m      1\u001B[0m \u001B[0mboard\u001B[0m \u001B[0;34m=\u001B[0m \u001B[0mchess\u001B[0m\u001B[0;34m.\u001B[0m\u001B[0mBoard\u001B[0m\u001B[0;34m(\u001B[0m\u001B[0;34m)\u001B[0m\u001B[0;34m\u001B[0m\u001B[0;34m\u001B[0m\u001B[0m\n\u001B[0;32m----> 2\u001B[0;31m \u001B[0mplay_game\u001B[0m\u001B[0;34m(\u001B[0m\u001B[0mboard\u001B[0m\u001B[0;34m,\u001B[0m \u001B[0mScoreEngine\u001B[0m\u001B[0;34m(\u001B[0m\u001B[0mminimax_score\u001B[0m\u001B[0;34m)\u001B[0m\u001B[0;34m,\u001B[0m \u001B[0mRandomMoveEngine\u001B[0m\u001B[0;34m(\u001B[0m\u001B[0;34m)\u001B[0m\u001B[0;34m,\u001B[0m \u001B[0mtext_display\u001B[0m\u001B[0;34m,\u001B[0m \u001B[0mmove\u001B[0m \u001B[0;34m)\u001B[0m\u001B[0;34m\u001B[0m\u001B[0;34m\u001B[0m\u001B[0m\n\u001B[0m",
      "\u001B[0;32m~/PycharmProjects/ChessEngine/ChessUtils.py\u001B[0m in \u001B[0;36mplay_game\u001B[0;34m(board, white_player, black_player, display, last_move)\u001B[0m\n\u001B[1;32m      9\u001B[0m     \u001B[0;32mwhile\u001B[0m \u001B[0;32mnot\u001B[0m \u001B[0mboard\u001B[0m\u001B[0;34m.\u001B[0m\u001B[0mis_game_over\u001B[0m\u001B[0;34m(\u001B[0m\u001B[0;34m)\u001B[0m\u001B[0;34m:\u001B[0m\u001B[0;34m\u001B[0m\u001B[0;34m\u001B[0m\u001B[0m\n\u001B[1;32m     10\u001B[0m         \u001B[0mplayer\u001B[0m \u001B[0;34m=\u001B[0m \u001B[0mwhite_player\u001B[0m \u001B[0;32mif\u001B[0m \u001B[0mboard\u001B[0m\u001B[0;34m.\u001B[0m\u001B[0mturn\u001B[0m \u001B[0;34m==\u001B[0m \u001B[0mchess\u001B[0m\u001B[0;34m.\u001B[0m\u001B[0mWHITE\u001B[0m \u001B[0;32melse\u001B[0m \u001B[0mblack_player\u001B[0m\u001B[0;34m\u001B[0m\u001B[0;34m\u001B[0m\u001B[0m\n\u001B[0;32m---> 11\u001B[0;31m         \u001B[0mmove\u001B[0m \u001B[0;34m=\u001B[0m \u001B[0mplayer\u001B[0m\u001B[0;34m.\u001B[0m\u001B[0mplay\u001B[0m\u001B[0;34m(\u001B[0m\u001B[0mboard\u001B[0m\u001B[0;34m)\u001B[0m\u001B[0;34m\u001B[0m\u001B[0;34m\u001B[0m\u001B[0m\n\u001B[0m\u001B[1;32m     12\u001B[0m         \u001B[0mprint\u001B[0m\u001B[0;34m(\u001B[0m\u001B[0mplayer\u001B[0m\u001B[0;34m.\u001B[0m\u001B[0mname\u001B[0m \u001B[0;34m+\u001B[0m \u001B[0;34m\" is taking a trun\"\u001B[0m\u001B[0;34m)\u001B[0m\u001B[0;34m\u001B[0m\u001B[0;34m\u001B[0m\u001B[0m\n\u001B[1;32m     13\u001B[0m         \u001B[0mboard\u001B[0m\u001B[0;34m.\u001B[0m\u001B[0mpush\u001B[0m\u001B[0;34m(\u001B[0m\u001B[0mmove\u001B[0m\u001B[0;34m)\u001B[0m\u001B[0;34m\u001B[0m\u001B[0;34m\u001B[0m\u001B[0m\n",
      "\u001B[0;32m~/PycharmProjects/ChessEngine/MyEngines/ScoreEngine.py\u001B[0m in \u001B[0;36mplay\u001B[0;34m(self, board)\u001B[0m\n\u001B[1;32m    139\u001B[0m             \u001B[0mnew_board\u001B[0m\u001B[0;34m.\u001B[0m\u001B[0mpush\u001B[0m\u001B[0;34m(\u001B[0m\u001B[0mmove\u001B[0m\u001B[0;34m)\u001B[0m\u001B[0;34m\u001B[0m\u001B[0;34m\u001B[0m\u001B[0m\n\u001B[1;32m    140\u001B[0m \u001B[0;34m\u001B[0m\u001B[0m\n\u001B[0;32m--> 141\u001B[0;31m             \u001B[0mscore\u001B[0m \u001B[0;34m=\u001B[0m \u001B[0mself\u001B[0m\u001B[0;34m.\u001B[0m\u001B[0mscore_function\u001B[0m\u001B[0;34m(\u001B[0m\u001B[0mnew_board\u001B[0m\u001B[0;34m,\u001B[0m \u001B[0mboard\u001B[0m\u001B[0;34m.\u001B[0m\u001B[0mturn\u001B[0m\u001B[0;34m,\u001B[0m \u001B[0mcache\u001B[0m\u001B[0;34m=\u001B[0m\u001B[0mknown_positions\u001B[0m\u001B[0;34m)\u001B[0m\u001B[0;34m\u001B[0m\u001B[0;34m\u001B[0m\u001B[0m\n\u001B[0m\u001B[1;32m    142\u001B[0m \u001B[0;34m\u001B[0m\u001B[0m\n\u001B[1;32m    143\u001B[0m             \u001B[0;32mif\u001B[0m \u001B[0mscore\u001B[0m \u001B[0;34m>\u001B[0m \u001B[0mbest_score\u001B[0m\u001B[0;34m:\u001B[0m\u001B[0;34m\u001B[0m\u001B[0;34m\u001B[0m\u001B[0m\n",
      "\u001B[0;32m~/PycharmProjects/ChessEngine/MyEngines/ScoreEngine.py\u001B[0m in \u001B[0;36mminimax_score\u001B[0;34m(board, turn, cutoff, current_depth, max_depth, cache)\u001B[0m\n\u001B[1;32m    102\u001B[0m         \u001B[0;31m#     cache_hits += 1\u001B[0m\u001B[0;34m\u001B[0m\u001B[0;34m\u001B[0m\u001B[0;34m\u001B[0m\u001B[0m\n\u001B[1;32m    103\u001B[0m \u001B[0;34m\u001B[0m\u001B[0m\n\u001B[0;32m--> 104\u001B[0;31m         \u001B[0mscore\u001B[0m \u001B[0;34m=\u001B[0m \u001B[0mminimax_score\u001B[0m\u001B[0;34m(\u001B[0m\u001B[0mnew_board\u001B[0m\u001B[0;34m,\u001B[0m \u001B[0;32mnot\u001B[0m \u001B[0mturn\u001B[0m\u001B[0;34m,\u001B[0m \u001B[0;34m-\u001B[0m\u001B[0mbest_score\u001B[0m\u001B[0;34m,\u001B[0m \u001B[0mcurrent_depth\u001B[0m \u001B[0;34m+\u001B[0m \u001B[0;36m1\u001B[0m\u001B[0;34m,\u001B[0m \u001B[0mmax_depth\u001B[0m\u001B[0;34m,\u001B[0m \u001B[0mcache\u001B[0m\u001B[0;34m)\u001B[0m\u001B[0;34m\u001B[0m\u001B[0;34m\u001B[0m\u001B[0m\n\u001B[0m\u001B[1;32m    105\u001B[0m \u001B[0;34m\u001B[0m\u001B[0m\n\u001B[1;32m    106\u001B[0m         \u001B[0;32mif\u001B[0m \u001B[0mscore\u001B[0m \u001B[0;34m>\u001B[0m \u001B[0mbest_score\u001B[0m\u001B[0;34m:\u001B[0m\u001B[0;34m\u001B[0m\u001B[0;34m\u001B[0m\u001B[0m\n",
      "\u001B[0;32m~/PycharmProjects/ChessEngine/MyEngines/ScoreEngine.py\u001B[0m in \u001B[0;36mminimax_score\u001B[0;34m(board, turn, cutoff, current_depth, max_depth, cache)\u001B[0m\n\u001B[1;32m     78\u001B[0m     \u001B[0;31m# recursively calculate best move\u001B[0m\u001B[0;34m\u001B[0m\u001B[0;34m\u001B[0m\u001B[0;34m\u001B[0m\u001B[0m\n\u001B[1;32m     79\u001B[0m     \u001B[0;31m# Make a list of all legal moves\u001B[0m\u001B[0;34m\u001B[0m\u001B[0;34m\u001B[0m\u001B[0;34m\u001B[0m\u001B[0m\n\u001B[0;32m---> 80\u001B[0;31m     \u001B[0mmoves\u001B[0m \u001B[0;34m=\u001B[0m \u001B[0mlist\u001B[0m\u001B[0;34m(\u001B[0m\u001B[0mboard\u001B[0m\u001B[0;34m.\u001B[0m\u001B[0mlegal_moves\u001B[0m\u001B[0;34m)\u001B[0m\u001B[0;34m\u001B[0m\u001B[0;34m\u001B[0m\u001B[0m\n\u001B[0m\u001B[1;32m     81\u001B[0m \u001B[0;34m\u001B[0m\u001B[0m\n\u001B[1;32m     82\u001B[0m     \u001B[0mbest_move\u001B[0m \u001B[0;34m=\u001B[0m \u001B[0;32mNone\u001B[0m\u001B[0;34m\u001B[0m\u001B[0;34m\u001B[0m\u001B[0m\n",
      "\u001B[0;32m~/PycharmProjects/ChessEngine/venv/lib64/python3.6/site-packages/chess/__init__.py\u001B[0m in \u001B[0;36mgenerate_legal_moves\u001B[0;34m(self, from_mask, to_mask)\u001B[0m\n\u001B[1;32m   3330\u001B[0m             \u001B[0;32melse\u001B[0m\u001B[0;34m:\u001B[0m\u001B[0;34m\u001B[0m\u001B[0;34m\u001B[0m\u001B[0m\n\u001B[1;32m   3331\u001B[0m                 \u001B[0;32mfor\u001B[0m \u001B[0mmove\u001B[0m \u001B[0;32min\u001B[0m \u001B[0mself\u001B[0m\u001B[0;34m.\u001B[0m\u001B[0mgenerate_pseudo_legal_moves\u001B[0m\u001B[0;34m(\u001B[0m\u001B[0mfrom_mask\u001B[0m\u001B[0;34m,\u001B[0m \u001B[0mto_mask\u001B[0m\u001B[0;34m)\u001B[0m\u001B[0;34m:\u001B[0m\u001B[0;34m\u001B[0m\u001B[0;34m\u001B[0m\u001B[0m\n\u001B[0;32m-> 3332\u001B[0;31m                     \u001B[0;32mif\u001B[0m \u001B[0mself\u001B[0m\u001B[0;34m.\u001B[0m\u001B[0m_is_safe\u001B[0m\u001B[0;34m(\u001B[0m\u001B[0mking\u001B[0m\u001B[0;34m,\u001B[0m \u001B[0mblockers\u001B[0m\u001B[0;34m,\u001B[0m \u001B[0mmove\u001B[0m\u001B[0;34m)\u001B[0m\u001B[0;34m:\u001B[0m\u001B[0;34m\u001B[0m\u001B[0;34m\u001B[0m\u001B[0m\n\u001B[0m\u001B[1;32m   3333\u001B[0m                         \u001B[0;32myield\u001B[0m \u001B[0mmove\u001B[0m\u001B[0;34m\u001B[0m\u001B[0;34m\u001B[0m\u001B[0m\n\u001B[1;32m   3334\u001B[0m         \u001B[0;32melse\u001B[0m\u001B[0;34m:\u001B[0m\u001B[0;34m\u001B[0m\u001B[0;34m\u001B[0m\u001B[0m\n",
      "\u001B[0;32m~/PycharmProjects/ChessEngine/venv/lib64/python3.6/site-packages/chess/__init__.py\u001B[0m in \u001B[0;36m_is_safe\u001B[0;34m(self, king, blockers, move)\u001B[0m\n\u001B[1;32m   3283\u001B[0m             \u001B[0;32melse\u001B[0m\u001B[0;34m:\u001B[0m\u001B[0;34m\u001B[0m\u001B[0;34m\u001B[0m\u001B[0m\n\u001B[1;32m   3284\u001B[0m                 \u001B[0;32mreturn\u001B[0m \u001B[0;32mnot\u001B[0m \u001B[0mself\u001B[0m\u001B[0;34m.\u001B[0m\u001B[0mis_attacked_by\u001B[0m\u001B[0;34m(\u001B[0m\u001B[0;32mnot\u001B[0m \u001B[0mself\u001B[0m\u001B[0;34m.\u001B[0m\u001B[0mturn\u001B[0m\u001B[0;34m,\u001B[0m \u001B[0mmove\u001B[0m\u001B[0;34m.\u001B[0m\u001B[0mto_square\u001B[0m\u001B[0;34m)\u001B[0m\u001B[0;34m\u001B[0m\u001B[0;34m\u001B[0m\u001B[0m\n\u001B[0;32m-> 3285\u001B[0;31m         \u001B[0;32melif\u001B[0m \u001B[0mself\u001B[0m\u001B[0;34m.\u001B[0m\u001B[0mis_en_passant\u001B[0m\u001B[0;34m(\u001B[0m\u001B[0mmove\u001B[0m\u001B[0;34m)\u001B[0m\u001B[0;34m:\u001B[0m\u001B[0;34m\u001B[0m\u001B[0;34m\u001B[0m\u001B[0m\n\u001B[0m\u001B[1;32m   3286\u001B[0m             return bool(self.pin_mask(self.turn, move.from_square) & BB_SQUARES[move.to_square] and\n\u001B[1;32m   3287\u001B[0m                         not self._ep_skewered(king, move.from_square))\n",
      "\u001B[0;32m~/PycharmProjects/ChessEngine/venv/lib64/python3.6/site-packages/chess/__init__.py\u001B[0m in \u001B[0;36mis_en_passant\u001B[0;34m(self, move)\u001B[0m\n\u001B[1;32m   2936\u001B[0m     \u001B[0;32mdef\u001B[0m \u001B[0mis_en_passant\u001B[0m\u001B[0;34m(\u001B[0m\u001B[0mself\u001B[0m\u001B[0;34m,\u001B[0m \u001B[0mmove\u001B[0m\u001B[0;34m:\u001B[0m \u001B[0mMove\u001B[0m\u001B[0;34m)\u001B[0m \u001B[0;34m->\u001B[0m \u001B[0mbool\u001B[0m\u001B[0;34m:\u001B[0m\u001B[0;34m\u001B[0m\u001B[0;34m\u001B[0m\u001B[0m\n\u001B[1;32m   2937\u001B[0m         \u001B[0;34m\"\"\"Checks if the given pseudo-legal move is an en passant capture.\"\"\"\u001B[0m\u001B[0;34m\u001B[0m\u001B[0;34m\u001B[0m\u001B[0m\n\u001B[0;32m-> 2938\u001B[0;31m         return (self.ep_square == move.to_square and\n\u001B[0m\u001B[1;32m   2939\u001B[0m                 \u001B[0mbool\u001B[0m\u001B[0;34m(\u001B[0m\u001B[0mself\u001B[0m\u001B[0;34m.\u001B[0m\u001B[0mpawns\u001B[0m \u001B[0;34m&\u001B[0m \u001B[0mBB_SQUARES\u001B[0m\u001B[0;34m[\u001B[0m\u001B[0mmove\u001B[0m\u001B[0;34m.\u001B[0m\u001B[0mfrom_square\u001B[0m\u001B[0;34m]\u001B[0m\u001B[0;34m)\u001B[0m \u001B[0;32mand\u001B[0m\u001B[0;34m\u001B[0m\u001B[0;34m\u001B[0m\u001B[0m\n\u001B[1;32m   2940\u001B[0m                 \u001B[0mabs\u001B[0m\u001B[0;34m(\u001B[0m\u001B[0mmove\u001B[0m\u001B[0;34m.\u001B[0m\u001B[0mto_square\u001B[0m \u001B[0;34m-\u001B[0m \u001B[0mmove\u001B[0m\u001B[0;34m.\u001B[0m\u001B[0mfrom_square\u001B[0m\u001B[0;34m)\u001B[0m \u001B[0;32min\u001B[0m \u001B[0;34m[\u001B[0m\u001B[0;36m7\u001B[0m\u001B[0;34m,\u001B[0m \u001B[0;36m9\u001B[0m\u001B[0;34m]\u001B[0m \u001B[0;32mand\u001B[0m\u001B[0;34m\u001B[0m\u001B[0;34m\u001B[0m\u001B[0m\n",
      "\u001B[0;31mKeyboardInterrupt\u001B[0m: "
     ]
    }
   ],
   "source": [
    "board = chess.Board()\n",
    "play_game(board, ScoreEngine(minimax_score), RandomMoveEngine(), text_display, move )"
   ],
   "metadata": {
    "collapsed": false
   }
  },
  {
   "cell_type": "code",
   "execution_count": null,
   "outputs": [],
   "source": [],
   "metadata": {
    "collapsed": false
   }
  },
  {
   "cell_type": "code",
   "execution_count": null,
   "outputs": [],
   "source": [],
   "metadata": {
    "collapsed": false
   }
  },
  {
   "cell_type": "code",
   "execution_count": null,
   "outputs": [],
   "source": [],
   "metadata": {
    "collapsed": false
   }
  }
 ],
 "metadata": {
  "kernelspec": {
   "display_name": "Python 3",
   "language": "python",
   "name": "python3"
  },
  "language_info": {
   "codemirror_mode": {
    "name": "ipython",
    "version": 2
   },
   "file_extension": ".py",
   "mimetype": "text/x-python",
   "name": "python",
   "nbconvert_exporter": "python",
   "pygments_lexer": "ipython2",
   "version": "2.7.6"
  }
 },
 "nbformat": 4,
 "nbformat_minor": 0
}
